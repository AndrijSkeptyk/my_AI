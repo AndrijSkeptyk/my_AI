{
 "cells": [
  {
   "cell_type": "code",
   "execution_count": null,
   "id": "8f9b9e67-d308-4fd6-965a-82dbdb7e31dc",
   "metadata": {
    "scrolled": true,
    "tags": []
   },
   "outputs": [],
   "source": [
    "# Переклад на іншу мову текста книги формата \n",
    "# epub за допомогою моделі нейронної мерережі\n",
    "# яка використовує архітектуру Transformer\n",
    "# https://github.com/UKPLab/EasyNMT, подивіться що потрібно встановити для роботи моделі\n",
    "# pip install ebooklib встановіть для роботи з книгами\n",
    "# pip install bs4 для роботи з сторінками книг\n",
    "# ідея виникла після знайомства з текстами програми https://github.com/yihong0618/bilingual_book_maker\n",
    "\n",
    "from easynmt import EasyNMT\n",
    "from ebooklib import  epub, ITEM_DOCUMENT,ITEM_STYLE,ITEM_NAVIGATION\n",
    "from bs4 import BeautifulSoup as bs"
   ]
  },
  {
   "cell_type": "code",
   "execution_count": null,
   "id": "3cbd3eee-ba4a-4a78-ba18-682c14014bb6",
   "metadata": {
    "tags": []
   },
   "outputs": [],
   "source": [
    "# вкажіть мову, з якої треба перекласти, на яку, і шлях до книги\n",
    "# в вихідній книзі до імені файла додастся мова перекладу\n",
    "# переклад записужться в книгу по параграфам і його завжди після\n",
    "# переривання процесу можна продовжити. Перекладені параграфи помічаються\n",
    "# атрибутом done\n",
    "\n",
    "# на яку мову\n",
    "target_lang=\"ru\" \n",
    "# з якої\n",
    "source_lang=\"en\"\n",
    "# шлях до книги\n",
    "source_path=\"Вкажіть шлях до книги\"\n",
    "target_path=source_path.rsplit('.epub')[0]+'_'+target_lang+'.epub'"
   ]
  },
  {
   "cell_type": "code",
   "execution_count": null,
   "id": "48b369ce-0007-491a-a185-5f97a0e4f391",
   "metadata": {
    "tags": []
   },
   "outputs": [],
   "source": [
    "# функції\n",
    "\n",
    "# не перекладати елемент тегу\n",
    "def no_translate(item):\n",
    "    return False\n",
    "    no_translate_tags=['code']\n",
    "    if item.name:\n",
    "        return item.name in no_translate_tags\n",
    "    else:\n",
    "        return False\n",
    "    \n",
    "# зберегти книгу в target_path    \n",
    "def save_book(book):\n",
    "    epub.write_epub(target_path, book, {})\n",
    "\n",
    "# обєднати два елементи тегу, які є одним словом\n",
    "def together(first,second):\n",
    "    if not second.name:\n",
    "        second.replace_with(first.text+second.text)\n",
    "        return   \n",
    "    for item in second.contents:\n",
    "        if item.name:\n",
    "            together(first,item)\n",
    "        else:\n",
    "            item.replace_with(first.text+item.text)\n",
    "            return\n",
    "# об'єднати елементи тегу, які є одним словом        \n",
    "def prepare(con):\n",
    "   if len(con)>1: \n",
    "      for i in range(len(con)-1):\n",
    "       if no_translate(con[i]):\n",
    "            continue\n",
    "       if con[i].text and not con[i].text[len(con[i].text)-1].isspace() and  con[i+1].text and not con[i+1].text[0].isspace():\n",
    "            together(con[i],con[i+1])\n",
    "            con.remove(con[i])\n",
    "            if len(con)==1:\n",
    "                return\n",
    "            prepare(con)\n",
    "            return \n",
    "   elif con:\n",
    "      if con[0].name:\n",
    "        prepare(con[0].contents)\n",
    "            \n",
    "# перекласти вміст тегу\n",
    "def translate(con):\n",
    "    for i in con:\n",
    "        if no_translate(i):\n",
    "            continue\n",
    "        if i.name:\n",
    "            translate(i)\n",
    "        else:    \n",
    "            i.replace_with(model.translate(i.text,target_lang=target_lang,source_lang=source_lang))\n",
    "\n",
    "# перекласти метадані книги            \n",
    "def translate_metadata(book):\n",
    "    book.title = model.translate(book.title,target_lang=target_lang,source_lang=source_lang)\n",
    "    book.language = target_lang\n",
    "    \n",
    "    metadata = book.get_metadata('DC','title' )\n",
    "    metadata_text=model.translate(metadata[0][0],target_lang=target_lang,source_lang=source_lang)\n",
    "    if isinstance(metadata_text,bytes):\n",
    "        metadata_text=metadata_text.decode('utf-8')\n",
    "    book.set_unique_metadata(name='title',value=metadata_text,namespace='DC')\n",
    "    \n",
    "    metadata = book.get_metadata('DC','creator' )\n",
    "    metadata_text=model.translate(metadata[0][0],target_lang=target_lang,source_lang=source_lang)\n",
    "    if isinstance(metadata_text,bytes):\n",
    "        metadata_text=metadata_text.decode('utf-8')\n",
    "    book.set_unique_metadata(name='creator',value=metadata_text,namespace='DC')\n",
    "'''   \n",
    "    metadata = book.get_metadata('DC','description' )\n",
    "    soup=bs(metadata[0][0], \"xml\")\n",
    "    prepare\n",
    "    translate(soup.contents)\n",
    "    metadata_text=soup.prettify().encode()  \n",
    "    if isinstance(metadata_text,bytes):\n",
    "         metadata_text=metadata_text.decode('utf-8')\n",
    "    book.set_unique_metadata(name='description',value=metadata_text,namespace='DC')\n",
    "'''\n",
    "\n",
    "# перекласти всі сторінки книги\n",
    "def translate_pages(book):\n",
    "    items=[item for item in book.get_items() if item.get_type()==ITEM_DOCUMENT]\n",
    "\n",
    "    for item in items:\n",
    "        for l in bs(item.content,'xml').findAll('link'):\n",
    "            item.add_link(href=l['href'],rel=l['rel'],type=l['type'])\n",
    "        \n",
    "    for p, item in enumerate(items):\n",
    "        print('page:',p, end='   ')\n",
    "        soup=bs(item.content, \"xml\")\n",
    "        tag_list=[tag for tag in soup.find('body').contents if tag.name and  tag.text and not tag.has_attr('done')]\n",
    "        for tag in tag_list:\n",
    "            if no_translate(tag):\n",
    "                continue\n",
    "            prepare(tag.contents)\n",
    "            translate(tag.contents)\n",
    "            print(len(tag.text), sep=', ',end=' ')\n",
    "            tag.attrs[\"done\"]=\"yes\"\n",
    "            item.content=soup.prettify().encode()\n",
    "            save_book(book)\n",
    "        print()\n",
    "                  \n"
   ]
  },
  {
   "cell_type": "code",
   "execution_count": null,
   "id": "f5accf16-a2d3-4309-b273-63b49750a851",
   "metadata": {
    "tags": []
   },
   "outputs": [],
   "source": [
    "#Завантажити модель перекладу, розкоментуйте потрібну і закоментуйте всі інші \n",
    "\n",
    "#model = EasyNMT('opus-mt') # Helsinki NLP 186 мов 300 Мб, найшвидша\n",
    "#model = EasyNMT('mbart50_m2m') #Facebook Research  52 мови, 2.3 Гб\n",
    "#model = EasyNMT('mbart50_en2m') #Facebook Research  52 мови, з англійської на інші 2.3 Гб\n",
    "model = EasyNMT('m2m_100_418M') # Facebook Research  100 мов 1.8 Гб  \n",
    "#model = EasyNMT('m2m_100_1.2B') # Facebook Research  100 мов 5 Гб  "
   ]
  },
  {
   "cell_type": "code",
   "execution_count": null,
   "id": "f22142f6-38c6-4450-a749-5af8645f0a85",
   "metadata": {
    "tags": []
   },
   "outputs": [],
   "source": [
    "# перекласти книгу \n",
    "book=epub.read_epub(source_path)\n",
    "translate_metadata(book)\n",
    "translate_pages(book)"
   ]
  },
  {
   "cell_type": "code",
   "execution_count": null,
   "id": "ed2ffceb-5d9f-43c1-8098-0c4d86114273",
   "metadata": {
    "tags": []
   },
   "outputs": [],
   "source": [
    "# продовжити переклад книги \n",
    "book=epub.read_epub(target_path)\n",
    "translate_pages(book)"
   ]
  }
 ],
 "metadata": {
  "kernelspec": {
   "display_name": "Python 3 (ipykernel)",
   "language": "python",
   "name": "python3"
  },
  "language_info": {
   "codemirror_mode": {
    "name": "ipython",
    "version": 3
   },
   "file_extension": ".py",
   "mimetype": "text/x-python",
   "name": "python",
   "nbconvert_exporter": "python",
   "pygments_lexer": "ipython3",
   "version": "3.9.15"
  },
  "widgets": {
   "application/vnd.jupyter.widget-state+json": {
    "state": {},
    "version_major": 2,
    "version_minor": 0
   }
  }
 },
 "nbformat": 4,
 "nbformat_minor": 5
}
